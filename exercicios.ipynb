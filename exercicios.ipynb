{
 "cells": [
  {
   "cell_type": "markdown",
   "metadata": {},
   "source": [
    "# Exercício 1\n",
    "\n",
    "Você está analisando um conjunto de dados de vendas e precisa garantir que todos os registros tenham valores positivos para quantidade e preço. Escreva um programa que verifique esses campos e imprima \"Dados válidos\" se ambos forem positivos ou \"Dados inválidos\" caso contrário."
   ]
  },
  {
   "cell_type": "code",
   "execution_count": 2,
   "metadata": {},
   "outputs": [
    {
     "name": "stdout",
     "output_type": "stream",
     "text": [
      "Dados invalidos\n"
     ]
    }
   ],
   "source": [
    "quantidade =20\n",
    "preco = -10\n",
    "\n",
    "if quantidade > 0 and preco > 0:\n",
    "    print('Dados validos')\n",
    "else:\n",
    "    print('Dados invalidos')"
   ]
  },
  {
   "cell_type": "markdown",
   "metadata": {},
   "source": [
    "# Exercicio 2\n",
    "\n",
    "Imagine que você está trabalhando com dados de sensores IoT. Os dados incluem medições de temperatura. Você precisa classificar cada leitura como 'Baixa', 'Normal' ou 'Alta'. Considerando que:\n",
    "\n",
    "- Temperatura < 18°C é 'Baixa'\n",
    "- Temperatura >= 18°C e <= 26°C é 'Normal'\n",
    "- Temperatura > 26°C é 'Alta'"
   ]
  },
  {
   "cell_type": "code",
   "execution_count": 6,
   "metadata": {},
   "outputs": [
    {
     "name": "stdout",
     "output_type": "stream",
     "text": [
      "Alta\n"
     ]
    }
   ],
   "source": [
    "Temperatura = 27\n",
    "\n",
    "if Temperatura < 18:\n",
    "    print('Baixa')\n",
    "elif Temperatura <= 26:\n",
    "    print('Normal')\n",
    "else:\n",
    "    print('Alta')"
   ]
  },
  {
   "cell_type": "markdown",
   "metadata": {},
   "source": [
    "# Exercicio 3\n",
    "\n",
    "Você está analisando logs de uma aplicação e precisa filtrar mensagens com severidade 'ERROR'. Dado um registro de log em formato de dicionário como log = {'timestamp': '2021-06-23 10:00:00', 'level': 'ERROR', 'message': 'Falha na conexão'}, escreva um programa que imprima a mensagem se a severidade for 'ERROR'."
   ]
  },
  {
   "cell_type": "code",
   "execution_count": 7,
   "metadata": {},
   "outputs": [
    {
     "name": "stdout",
     "output_type": "stream",
     "text": [
      "Falha na conexão\n"
     ]
    }
   ],
   "source": [
    "log = {'timestamp': '2021-06-23 10:00:00', 'level': 'ERROR', 'message': 'Falha na conexão'}\n",
    "\n",
    "if log['level'] == 'ERROR':\n",
    "    print(log['message'])"
   ]
  },
  {
   "cell_type": "markdown",
   "metadata": {},
   "source": [
    "# Exercico 4\n",
    "\n",
    "Antes de processar os dados de usuários em um sistema de recomendação, você precisa garantir que cada usuário tenha idade entre 18 e 65 anos e tenha fornecido um email válido. Escreva um programa que valide essas condições e imprima \"Dados de usuário válidos\" ou o erro específico encontrado."
   ]
  },
  {
   "cell_type": "code",
   "execution_count": 11,
   "metadata": {},
   "outputs": [
    {
     "name": "stdout",
     "output_type": "stream",
     "text": [
      "Dados de usuário válidos\n"
     ]
    }
   ],
   "source": [
    "idade = 52  # Exemplo de valor, substitua com input do usuário se necessário\n",
    "email = \"usuario@exemplo.com\"  # Exemplo de valor, substitua com input do usuário se necessário\n",
    "\n",
    "if not 18 <= idade <= 65:\n",
    "    print(\"Idade fora do intervalo permitido\")\n",
    "elif \"@\" not in email or \".com\" not in email:\n",
    "    print(\"Email inválido\")\n",
    "else:\n",
    "    print(\"Dados de usuário válidos\")"
   ]
  },
  {
   "cell_type": "markdown",
   "metadata": {},
   "source": [
    "# Exercicio 5\n",
    "\n",
    "Você está trabalhando em um sistema de detecção de fraude e precisa identificar transações suspeitas. Uma transação é considerada suspeita se o valor for superior a R$ 10.000 ou se ocorrer fora do horário comercial (antes das 9h ou depois das 18h). Dada uma transação como transacao = {'valor': 12000, 'hora': 20}, verifique se ela é suspeita."
   ]
  },
  {
   "cell_type": "code",
   "execution_count": 22,
   "metadata": {},
   "outputs": [
    {
     "name": "stdout",
     "output_type": "stream",
     "text": [
      "Transação suspeita\n"
     ]
    }
   ],
   "source": [
    " transacao = {'valor': 1000, 'hora': 19}\n",
    "\n",
    "if transacao['valor'] > 10000 or  transacao['hora'] < 8 or transacao['hora'] > 18:\n",
    "    print(\"Transação suspeita\")\n",
    "else:\n",
    "   print('transição aceita')"
   ]
  },
  {
   "cell_type": "markdown",
   "metadata": {},
   "source": [
    "# Exercício 6\n",
    "Objetivo: Dado um texto, contar quantas vezes cada palavra única aparece nele.\n"
   ]
  },
  {
   "cell_type": "code",
   "execution_count": 3,
   "metadata": {},
   "outputs": [
    {
     "name": "stdout",
     "output_type": "stream",
     "text": [
      "{'eu': 1, 'sou': 1, 'preguicoso': 2, 'e': 2, 'meu': 1, 'irmao': 1, 'tambem': 1}\n"
     ]
    }
   ],
   "source": [
    "texto = \"eu sou preguicoso e meu irmao tambem e preguicoso\"\n",
    "palavras = texto.split()\n",
    "contagem_palavras = {}\n",
    "\n",
    "for palavra in palavras:\n",
    "    if palavra in contagem_palavras:\n",
    "        contagem_palavras[palavra] += 1\n",
    "    else:\n",
    "        contagem_palavras[palavra] = 1\n",
    "\n",
    "print(contagem_palavras)"
   ]
  },
  {
   "cell_type": "markdown",
   "metadata": {},
   "source": [
    "# Exercicio 7 \n",
    "\n",
    "Objetivo: Normalizar uma lista de números para que fiquem na escala de 0 a 1."
   ]
  },
  {
   "cell_type": "code",
   "execution_count": 4,
   "metadata": {},
   "outputs": [
    {
     "name": "stdout",
     "output_type": "stream",
     "text": [
      "[0.0, 0.25, 0.5, 0.75, 1.0]\n"
     ]
    }
   ],
   "source": [
    "numeros = [10, 20, 30, 40, 50]\n",
    "minimo = min(numeros)\n",
    "maximo = max(numeros)\n",
    "normalizados = [(x - minimo) / (maximo - minimo) for x in numeros]\n",
    "\n",
    "print(normalizados)"
   ]
  },
  {
   "cell_type": "markdown",
   "metadata": {},
   "source": [
    "# Exercicio 8\n",
    "\n",
    "Objetivo: Dada uma lista de dicionários representando dados de usuários, filtrar aqueles que têm um campo específico faltando."
   ]
  },
  {
   "cell_type": "code",
   "execution_count": 5,
   "metadata": {},
   "outputs": [
    {
     "name": "stdout",
     "output_type": "stream",
     "text": [
      "[{'nome': 'Alice', 'email': 'alice@example.com'}, {'nome': 'Carol', 'email': 'carol@example.com'}]\n"
     ]
    }
   ],
   "source": [
    "usuarios = [\n",
    "    {\"nome\": \"Alice\", \"email\": \"alice@example.com\"},\n",
    "    {\"nome\": \"Bob\", \"email\": \"\"},\n",
    "    {\"nome\": \"Carol\", \"email\": \"carol@example.com\"}\n",
    "]\n",
    "\n",
    "usuarios_validos = [usuario for usuario in usuarios if usuario[\"email\"]]\n",
    "\n",
    "print(usuarios_validos)"
   ]
  },
  {
   "cell_type": "markdown",
   "metadata": {},
   "source": [
    "# Exercicio 9\n",
    "Objetivo: Dada uma lista de números, extrair apenas aqueles que são pares."
   ]
  },
  {
   "cell_type": "code",
   "execution_count": 6,
   "metadata": {},
   "outputs": [
    {
     "name": "stdout",
     "output_type": "stream",
     "text": [
      "[2, 4, 6, 8, 10]\n"
     ]
    }
   ],
   "source": [
    "numeros = range(1, 11)\n",
    "pares = [x for x in numeros if x % 2 == 0]\n",
    "\n",
    "print(pares)"
   ]
  },
  {
   "cell_type": "markdown",
   "metadata": {},
   "source": [
    "# Exercicio 10 \n",
    "Dado um conjunto de registros de vendas, calcular o total de vendas por categoria."
   ]
  },
  {
   "cell_type": "code",
   "execution_count": 7,
   "metadata": {},
   "outputs": [
    {
     "name": "stdout",
     "output_type": "stream",
     "text": [
      "{'eletrônicos': 2000, 'livros': 200}\n"
     ]
    }
   ],
   "source": [
    "vendas = [\n",
    "    {\"categoria\": \"eletrônicos\", \"valor\": 1200},\n",
    "    {\"categoria\": \"livros\", \"valor\": 200},\n",
    "    {\"categoria\": \"eletrônicos\", \"valor\": 800}\n",
    "]\n",
    "\n",
    "total_por_categoria = {}\n",
    "for venda in vendas:\n",
    "    categoria = venda[\"categoria\"]\n",
    "    valor = venda[\"valor\"]\n",
    "    if categoria in total_por_categoria:\n",
    "        total_por_categoria[categoria] += valor\n",
    "    else:\n",
    "        total_por_categoria[categoria] = valor\n",
    "\n",
    "print(total_por_categoria)"
   ]
  },
  {
   "cell_type": "markdown",
   "metadata": {},
   "source": [
    "# Exercicio 11\n",
    "Objetivo: Ler dados de entrada até que uma palavra-chave específica (\"sair\") seja fornecida."
   ]
  },
  {
   "cell_type": "code",
   "execution_count": 9,
   "metadata": {},
   "outputs": [
    {
     "name": "stdout",
     "output_type": "stream",
     "text": [
      "7\n"
     ]
    }
   ],
   "source": [
    "dados = []\n",
    "entrada = \"\"\n",
    "while entrada.lower() != \"sair\":\n",
    "    entrada = input(\"Digite um valor (ou 'sair' para terminar): \")\n",
    "    if entrada.lower() != \"sair\":\n",
    "        dados.append(int(entrada))\n",
    "\n",
    "soma = sum(dados)\n",
    "print(soma) "
   ]
  },
  {
   "cell_type": "markdown",
   "metadata": {},
   "source": [
    "# Exercicio 12\n",
    "Objetivo: Solicitar ao usuário um número dentro de um intervalo específico até que a entrada seja válida."
   ]
  },
  {
   "cell_type": "code",
   "execution_count": 10,
   "metadata": {},
   "outputs": [
    {
     "name": "stdout",
     "output_type": "stream",
     "text": [
      "Número fora do intervalo!\n",
      "Número fora do intervalo!\n",
      "Número válido!\n"
     ]
    }
   ],
   "source": [
    "numero = int(input(\"Digite um número entre 1 e 10: \"))\n",
    "while numero < 1 or numero > 10:\n",
    "    print(\"Número fora do intervalo!\")\n",
    "    numero = int(input(\"Por favor, digite um número entre 1 e 10: \"))\n",
    "\n",
    "print(\"Número válido!\")"
   ]
  },
  {
   "cell_type": "markdown",
   "metadata": {},
   "source": [
    "# Exercício 13\n",
    "\n",
    "Objetivo: Simular o consumo de uma API paginada, onde cada \"página\" de dados é processada em loop até que não haja mais páginas."
   ]
  },
  {
   "cell_type": "code",
   "execution_count": 11,
   "metadata": {},
   "outputs": [
    {
     "name": "stdout",
     "output_type": "stream",
     "text": [
      "Processando página 1 de 5\n",
      "Processando página 2 de 5\n",
      "Processando página 3 de 5\n",
      "Processando página 4 de 5\n",
      "Processando página 5 de 5\n",
      "Todas as páginas foram processadas.\n"
     ]
    }
   ],
   "source": [
    "pagina_atual = 1\n",
    "paginas_totais = 5  # Simulação, na prática, isso viria da API\n",
    "\n",
    "while pagina_atual <= paginas_totais:\n",
    "    print(f\"Processando página {pagina_atual} de {paginas_totais}\")\n",
    "    # Aqui iria o código para processar os dados da página\n",
    "    pagina_atual += 1\n",
    "\n",
    "print(\"Todas as páginas foram processadas.\")"
   ]
  },
  {
   "cell_type": "markdown",
   "metadata": {},
   "source": [
    "# Exercicio 14\n",
    "Objetivo: Simular tentativas de reconexão a um serviço com um limite máximo de tentativas."
   ]
  },
  {
   "cell_type": "code",
   "execution_count": 12,
   "metadata": {},
   "outputs": [
    {
     "name": "stdout",
     "output_type": "stream",
     "text": [
      "Tentativa 1 de 5\n",
      "Conexão bem-sucedida!\n"
     ]
    }
   ],
   "source": [
    "tentativas_maximas = 5\n",
    "tentativa = 1\n",
    "\n",
    "while tentativa <= tentativas_maximas:\n",
    "    print(f\"Tentativa {tentativa} de {tentativas_maximas}\")\n",
    "    # Simulação de uma tentativa de conexão\n",
    "    # Aqui iria o código para tentar conectar\n",
    "    if True:  # Suponha que a conexão foi bem-sucedida\n",
    "        print(\"Conexão bem-sucedida!\")\n",
    "        break\n",
    "    tentativa += 1\n",
    "else:\n",
    "    print(\"Falha ao conectar após várias tentativas.\")"
   ]
  },
  {
   "cell_type": "markdown",
   "metadata": {},
   "source": [
    "# Exercicio 15\n",
    "Objetivo: Processar itens de uma lista até encontrar um valor específico que indica a parada."
   ]
  },
  {
   "cell_type": "code",
   "execution_count": 13,
   "metadata": {},
   "outputs": [
    {
     "name": "stdout",
     "output_type": "stream",
     "text": [
      "Processando item: 1\n",
      "Processando item: 2\n",
      "Processando item: 3\n",
      "Parada encontrada, encerrando o processamento.\n"
     ]
    }
   ],
   "source": [
    "itens = [1, 2, 3, \"parar\", 4, 5]\n",
    "\n",
    "i = 0\n",
    "while i < len(itens):\n",
    "    if itens[i] == \"parar\":\n",
    "        print(\"Parada encontrada, encerrando o processamento.\")\n",
    "        break\n",
    "    # Processa o item\n",
    "    print(f\"Processando item: {itens[i]}\")\n",
    "    i += 1"
   ]
  }
 ],
 "metadata": {
  "kernelspec": {
   "display_name": "Python 3",
   "language": "python",
   "name": "python3"
  },
  "language_info": {
   "codemirror_mode": {
    "name": "ipython",
    "version": 3
   },
   "file_extension": ".py",
   "mimetype": "text/x-python",
   "name": "python",
   "nbconvert_exporter": "python",
   "pygments_lexer": "ipython3",
   "version": "3.12.5"
  }
 },
 "nbformat": 4,
 "nbformat_minor": 2
}
