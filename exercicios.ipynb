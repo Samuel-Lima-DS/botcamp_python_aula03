{
 "cells": [
  {
   "cell_type": "markdown",
   "metadata": {},
   "source": [
    "# Exercício 1\n",
    "\n",
    "Você está analisando um conjunto de dados de vendas e precisa garantir que todos os registros tenham valores positivos para quantidade e preço. Escreva um programa que verifique esses campos e imprima \"Dados válidos\" se ambos forem positivos ou \"Dados inválidos\" caso contrário."
   ]
  },
  {
   "cell_type": "code",
   "execution_count": 2,
   "metadata": {},
   "outputs": [
    {
     "name": "stdout",
     "output_type": "stream",
     "text": [
      "Dados invalidos\n"
     ]
    }
   ],
   "source": [
    "quantidade =20\n",
    "preco = -10\n",
    "\n",
    "if quantidade > 0 and preco > 0:\n",
    "    print('Dados validos')\n",
    "else:\n",
    "    print('Dados invalidos')"
   ]
  },
  {
   "cell_type": "markdown",
   "metadata": {},
   "source": [
    "# Exercicio 2\n",
    "\n",
    "Imagine que você está trabalhando com dados de sensores IoT. Os dados incluem medições de temperatura. Você precisa classificar cada leitura como 'Baixa', 'Normal' ou 'Alta'. Considerando que:\n",
    "\n",
    "- Temperatura < 18°C é 'Baixa'\n",
    "- Temperatura >= 18°C e <= 26°C é 'Normal'\n",
    "- Temperatura > 26°C é 'Alta'"
   ]
  },
  {
   "cell_type": "code",
   "execution_count": 6,
   "metadata": {},
   "outputs": [
    {
     "name": "stdout",
     "output_type": "stream",
     "text": [
      "Alta\n"
     ]
    }
   ],
   "source": [
    "Temperatura = 27\n",
    "\n",
    "if Temperatura < 18:\n",
    "    print('Baixa')\n",
    "elif Temperatura <= 26:\n",
    "    print('Normal')\n",
    "else:\n",
    "    print('Alta')"
   ]
  },
  {
   "cell_type": "markdown",
   "metadata": {},
   "source": [
    "# Exercicio 3\n",
    "\n",
    "Você está analisando logs de uma aplicação e precisa filtrar mensagens com severidade 'ERROR'. Dado um registro de log em formato de dicionário como log = {'timestamp': '2021-06-23 10:00:00', 'level': 'ERROR', 'message': 'Falha na conexão'}, escreva um programa que imprima a mensagem se a severidade for 'ERROR'."
   ]
  },
  {
   "cell_type": "code",
   "execution_count": 7,
   "metadata": {},
   "outputs": [
    {
     "name": "stdout",
     "output_type": "stream",
     "text": [
      "Falha na conexão\n"
     ]
    }
   ],
   "source": [
    "log = {'timestamp': '2021-06-23 10:00:00', 'level': 'ERROR', 'message': 'Falha na conexão'}\n",
    "\n",
    "if log['level'] == 'ERROR':\n",
    "    print(log['message'])"
   ]
  },
  {
   "cell_type": "markdown",
   "metadata": {},
   "source": [
    "# Exercico 4\n",
    "\n",
    "Antes de processar os dados de usuários em um sistema de recomendação, você precisa garantir que cada usuário tenha idade entre 18 e 65 anos e tenha fornecido um email válido. Escreva um programa que valide essas condições e imprima \"Dados de usuário válidos\" ou o erro específico encontrado."
   ]
  },
  {
   "cell_type": "code",
   "execution_count": 11,
   "metadata": {},
   "outputs": [
    {
     "name": "stdout",
     "output_type": "stream",
     "text": [
      "Dados de usuário válidos\n"
     ]
    }
   ],
   "source": [
    "idade = 52  # Exemplo de valor, substitua com input do usuário se necessário\n",
    "email = \"usuario@exemplo.com\"  # Exemplo de valor, substitua com input do usuário se necessário\n",
    "\n",
    "if not 18 <= idade <= 65:\n",
    "    print(\"Idade fora do intervalo permitido\")\n",
    "elif \"@\" not in email or \".com\" not in email:\n",
    "    print(\"Email inválido\")\n",
    "else:\n",
    "    print(\"Dados de usuário válidos\")"
   ]
  },
  {
   "cell_type": "markdown",
   "metadata": {},
   "source": [
    "# Exercicio 5\n",
    "\n",
    "Você está trabalhando em um sistema de detecção de fraude e precisa identificar transações suspeitas. Uma transação é considerada suspeita se o valor for superior a R$ 10.000 ou se ocorrer fora do horário comercial (antes das 9h ou depois das 18h). Dada uma transação como transacao = {'valor': 12000, 'hora': 20}, verifique se ela é suspeita."
   ]
  },
  {
   "cell_type": "code",
   "execution_count": 22,
   "metadata": {},
   "outputs": [
    {
     "name": "stdout",
     "output_type": "stream",
     "text": [
      "Transação suspeita\n"
     ]
    }
   ],
   "source": [
    " transacao = {'valor': 1000, 'hora': 19}\n",
    "\n",
    "if transacao['valor'] > 10000 or  transacao['hora'] < 8 or transacao['hora'] > 18:\n",
    "    print(\"Transação suspeita\")\n",
    "else:\n",
    "   print('transição aceita')"
   ]
  }
 ],
 "metadata": {
  "kernelspec": {
   "display_name": "Python 3",
   "language": "python",
   "name": "python3"
  },
  "language_info": {
   "codemirror_mode": {
    "name": "ipython",
    "version": 3
   },
   "file_extension": ".py",
   "mimetype": "text/x-python",
   "name": "python",
   "nbconvert_exporter": "python",
   "pygments_lexer": "ipython3",
   "version": "3.12.5"
  }
 },
 "nbformat": 4,
 "nbformat_minor": 2
}
